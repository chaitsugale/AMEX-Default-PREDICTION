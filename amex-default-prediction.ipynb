{
 "cells": [
  {
   "cell_type": "code",
   "execution_count": 1,
   "id": "28d9c20a",
   "metadata": {
    "_cell_guid": "b1076dfc-b9ad-4769-8c92-a6c4dae69d19",
    "_uuid": "8f2839f25d086af736a60e9eeb907d3b93b6e0e5",
    "execution": {
     "iopub.execute_input": "2022-07-15T10:02:14.556693Z",
     "iopub.status.busy": "2022-07-15T10:02:14.556162Z",
     "iopub.status.idle": "2022-07-15T10:02:14.715223Z",
     "shell.execute_reply": "2022-07-15T10:02:14.714218Z"
    },
    "papermill": {
     "duration": 0.172459,
     "end_time": "2022-07-15T10:02:14.718662",
     "exception": false,
     "start_time": "2022-07-15T10:02:14.546203",
     "status": "completed"
    },
    "tags": []
   },
   "outputs": [
    {
     "name": "stdout",
     "output_type": "stream",
     "text": [
      "/kaggle/input/amex-default-prediction/sample_submission.csv\n",
      "/kaggle/input/amex-default-prediction/train_data.csv\n",
      "/kaggle/input/amex-default-prediction/test_data.csv\n",
      "/kaggle/input/amex-default-prediction/train_labels.csv\n",
      "/kaggle/input/amex-default-prediction-feather/00_slim_data.ipynb\n",
      "/kaggle/input/amex-default-prediction-feather/test.feather\n",
      "/kaggle/input/amex-default-prediction-feather/train.feather\n",
      "/kaggle/input/amex-data-integer-dtypes-parquet-format/train.parquet\n",
      "/kaggle/input/amex-data-integer-dtypes-parquet-format/test.parquet\n"
     ]
    }
   ],
   "source": [
    "# This Python 3 environment comes with many helpful analytics libraries installed\n",
    "# It is defined by the kaggle/python Docker image: https://github.com/kaggle/docker-python\n",
    "# For example, here's several helpful packages to load\n",
    "\n",
    "import gc\n",
    "import warnings\n",
    "warnings.filterwarnings('ignore')\n",
    "import scipy as sp\n",
    "import numpy as np\n",
    "import pandas as pd\n",
    "pd.set_option('display.max_rows', 500)\n",
    "pd.set_option('display.max_columns', 500)\n",
    "pd.set_option('display.width', 1000)\n",
    "from tqdm.auto import tqdm\n",
    "import itertools\n",
    "\n",
    "# Input data files are available in the read-only \"../input/\" directory\n",
    "# For example, running this (by clicking run or pressing Shift+Enter) will list all files under the input directory\n",
    "import os\n",
    "for dirname, _, filenames in os.walk('/kaggle/input'):\n",
    "    for filename in filenames:\n",
    "        print(os.path.join(dirname, filename))\n",
    "\n",
    "# You can write up to 20GB to the current directory (/kaggle/working/) that gets preserved as output when you create a version using \"Save & Run All\" \n",
    "# You can also write temporary files to /kaggle/temp/, but they won't be saved outside of the current session"
   ]
  },
  {
   "cell_type": "code",
   "execution_count": null,
   "id": "81135aa6",
   "metadata": {
    "papermill": {
     "duration": 0.004782,
     "end_time": "2022-07-15T10:02:14.729223",
     "exception": false,
     "start_time": "2022-07-15T10:02:14.724441",
     "status": "completed"
    },
    "tags": []
   },
   "outputs": [],
   "source": []
  },
  {
   "cell_type": "code",
   "execution_count": 2,
   "id": "677a6ffd",
   "metadata": {
    "execution": {
     "iopub.execute_input": "2022-07-15T10:02:14.739690Z",
     "iopub.status.busy": "2022-07-15T10:02:14.739390Z",
     "iopub.status.idle": "2022-07-15T10:02:14.743632Z",
     "shell.execute_reply": "2022-07-15T10:02:14.742677Z"
    },
    "papermill": {
     "duration": 0.011715,
     "end_time": "2022-07-15T10:02:14.745599",
     "exception": false,
     "start_time": "2022-07-15T10:02:14.733884",
     "status": "completed"
    },
    "tags": []
   },
   "outputs": [],
   "source": [
    "# Reduce Memory Usage"
   ]
  },
  {
   "cell_type": "code",
   "execution_count": 3,
   "id": "73c81424",
   "metadata": {
    "execution": {
     "iopub.execute_input": "2022-07-15T10:02:14.755981Z",
     "iopub.status.busy": "2022-07-15T10:02:14.755694Z",
     "iopub.status.idle": "2022-07-15T10:02:14.768768Z",
     "shell.execute_reply": "2022-07-15T10:02:14.767888Z"
    },
    "papermill": {
     "duration": 0.020597,
     "end_time": "2022-07-15T10:02:14.770694",
     "exception": false,
     "start_time": "2022-07-15T10:02:14.750097",
     "status": "completed"
    },
    "tags": []
   },
   "outputs": [],
   "source": [
    "def reduce_memory_usage(df,verbose = True):\n",
    "    numerics = ['int16','int32','int64','float16','float32','float64']\n",
    "    start_mem = df.memory_usage().sum()/1024**2\n",
    "    for col in df.columns:\n",
    "        col_type = df[col].dtypes\n",
    "        if col_type in numerics:\n",
    "            c_min = df[col].min()\n",
    "            c_max = df[col].max()\n",
    "            if str(col_type)[:3] == 'int':\n",
    "                if c_min > np.iinfo(np.int8).min and c_max < np.iinfo(np.int8).max:\n",
    "                    df[col] = df[col].astype(np.int8)\n",
    "                elif c_min > np.iinfo(np.int16).min and c_max < np.iinfo(np.int16).max:\n",
    "                    df[col] = df[col].astype(np.int16)\n",
    "                elif c_min > np.iinfo(np.int32).min and c_max < np.iinfo(np.int32).max:\n",
    "                    df[col] = df[col].astype(np.int32)\n",
    "                elif c_min > np.iinfo(np.int64).min and c_max < np.iinfo(np.int64).max:\n",
    "                    df[col] = df[col].astype(np.int64)\n",
    "            else:\n",
    "                if c_min > np.finfo(np.float16).min and c_max < np.finfo(np.float16).max:\n",
    "                    df[col] = df[col].astype(np.float16)\n",
    "                elif c_min > np.finfo(np.float32).min and c_max < np.finfo(np.float32).max:\n",
    "                    df[col] = df[col].astype(np.float32)\n",
    "                else:\n",
    "                    df[col] = df[col].astype(np.float64)\n",
    "    end_mem = df.memory_usage().sum() / 1024**2\n",
    "    print('Memory usage after optimization is: {:.2f} MB'.format(end_mem))\n",
    "    print('Decreased by {:.1f}%'.format(100 * (start_mem - end_mem) / start_mem))\n",
    "    return df"
   ]
  },
  {
   "cell_type": "code",
   "execution_count": 4,
   "id": "3985edac",
   "metadata": {
    "execution": {
     "iopub.execute_input": "2022-07-15T10:02:14.781805Z",
     "iopub.status.busy": "2022-07-15T10:02:14.781110Z",
     "iopub.status.idle": "2022-07-15T10:02:14.788844Z",
     "shell.execute_reply": "2022-07-15T10:02:14.787387Z"
    },
    "papermill": {
     "duration": 0.016859,
     "end_time": "2022-07-15T10:02:14.792128",
     "exception": false,
     "start_time": "2022-07-15T10:02:14.775269",
     "status": "completed"
    },
    "tags": []
   },
   "outputs": [],
   "source": [
    "# Reading Preprocessed Data"
   ]
  },
  {
   "cell_type": "code",
   "execution_count": 5,
   "id": "0017228b",
   "metadata": {
    "execution": {
     "iopub.execute_input": "2022-07-15T10:02:14.808423Z",
     "iopub.status.busy": "2022-07-15T10:02:14.808036Z",
     "iopub.status.idle": "2022-07-15T10:02:34.265246Z",
     "shell.execute_reply": "2022-07-15T10:02:34.264205Z"
    },
    "papermill": {
     "duration": 19.468451,
     "end_time": "2022-07-15T10:02:34.267885",
     "exception": false,
     "start_time": "2022-07-15T10:02:14.799434",
     "status": "completed"
    },
    "tags": []
   },
   "outputs": [
    {
     "name": "stdout",
     "output_type": "stream",
     "text": [
      "Train size: (5531451, 190)\n",
      "CPU times: user 11.1 s, sys: 3.3 s, total: 14.4 s\n",
      "Wall time: 19.5 s\n"
     ]
    }
   ],
   "source": [
    "%%time\n",
    "\n",
    "amex_train = pd.read_feather(\"../input/amex-default-prediction-feather/train.feather\")\n",
    "\n",
    "print(\"Train size:\", amex_train.shape)"
   ]
  },
  {
   "cell_type": "code",
   "execution_count": 6,
   "id": "c058eeb4",
   "metadata": {
    "execution": {
     "iopub.execute_input": "2022-07-15T10:02:34.279377Z",
     "iopub.status.busy": "2022-07-15T10:02:34.279084Z",
     "iopub.status.idle": "2022-07-15T10:03:11.072608Z",
     "shell.execute_reply": "2022-07-15T10:03:11.071643Z"
    },
    "papermill": {
     "duration": 36.801408,
     "end_time": "2022-07-15T10:03:11.074886",
     "exception": false,
     "start_time": "2022-07-15T10:02:34.273478",
     "status": "completed"
    },
    "tags": []
   },
   "outputs": [
    {
     "name": "stdout",
     "output_type": "stream",
     "text": [
      "Memory usage after optimization is: 2009.85 MB\n",
      "Decreased by 0.0%\n"
     ]
    }
   ],
   "source": [
    "amex_train = reduce_memory_usage(amex_train)\n",
    "amex_features = amex_train.drop(['customer_ID', 'S_2'], axis = 1).columns.to_list()\n",
    "cat_features = [\n",
    "        \"B_30\",\n",
    "        \"B_38\",\n",
    "        \"D_114\",\n",
    "        \"D_116\",\n",
    "        \"D_117\",\n",
    "        \"D_120\",\n",
    "        \"D_126\",\n",
    "        \"D_63\",\n",
    "        \"D_64\",\n",
    "        \"D_66\",\n",
    "        \"D_68\",\n",
    "    ]\n",
    "num_features = [col for col in amex_features if col not in cat_features]"
   ]
  },
  {
   "cell_type": "code",
   "execution_count": 7,
   "id": "e7b77d22",
   "metadata": {
    "execution": {
     "iopub.execute_input": "2022-07-15T10:03:11.085818Z",
     "iopub.status.busy": "2022-07-15T10:03:11.085509Z",
     "iopub.status.idle": "2022-07-15T10:04:33.441759Z",
     "shell.execute_reply": "2022-07-15T10:04:33.440778Z"
    },
    "papermill": {
     "duration": 82.364307,
     "end_time": "2022-07-15T10:04:33.444293",
     "exception": false,
     "start_time": "2022-07-15T10:03:11.079986",
     "status": "completed"
    },
    "tags": []
   },
   "outputs": [
    {
     "name": "stdout",
     "output_type": "stream",
     "text": [
      "Starting train feature extraction\n"
     ]
    }
   ],
   "source": [
    "print('Starting train feature extraction')\n",
    "amex_train_agg = amex_train.groupby(\"customer_ID\")[num_features].agg(['first', 'mean', 'std', 'min', 'max', 'last'])\n",
    "amex_train_agg.columns = ['_'.join(x) for x in amex_train_agg.columns]\n",
    "amex_train_agg.reset_index(inplace = True)"
   ]
  },
  {
   "cell_type": "code",
   "execution_count": 8,
   "id": "141935c0",
   "metadata": {
    "execution": {
     "iopub.execute_input": "2022-07-15T10:04:33.455552Z",
     "iopub.status.busy": "2022-07-15T10:04:33.455252Z",
     "iopub.status.idle": "2022-07-15T10:04:36.100591Z",
     "shell.execute_reply": "2022-07-15T10:04:36.099634Z"
    },
    "papermill": {
     "duration": 2.653444,
     "end_time": "2022-07-15T10:04:36.102948",
     "exception": false,
     "start_time": "2022-07-15T10:04:33.449504",
     "status": "completed"
    },
    "tags": []
   },
   "outputs": [],
   "source": [
    "for col in amex_train_agg:\n",
    "    if 'last' in col and col.replace('last', 'first') in amex_train_agg:\n",
    "        amex_train_agg[col + '_lag_sub'] = amex_train_agg[col] - amex_train_agg[col.replace('last', 'first')]\n",
    "        amex_train_agg[col + '_lag_div'] = amex_train_agg[col] / amex_train_agg[col.replace('last', 'first')]"
   ]
  },
  {
   "cell_type": "code",
   "execution_count": 9,
   "id": "33b067c2",
   "metadata": {
    "execution": {
     "iopub.execute_input": "2022-07-15T10:04:36.114237Z",
     "iopub.status.busy": "2022-07-15T10:04:36.113937Z",
     "iopub.status.idle": "2022-07-15T10:04:43.285906Z",
     "shell.execute_reply": "2022-07-15T10:04:43.284949Z"
    },
    "papermill": {
     "duration": 7.180257,
     "end_time": "2022-07-15T10:04:43.288285",
     "exception": false,
     "start_time": "2022-07-15T10:04:36.108028",
     "status": "completed"
    },
    "tags": []
   },
   "outputs": [],
   "source": [
    "train_cat_agg = amex_train.groupby(\"customer_ID\")[cat_features].agg(['count', 'first', 'last', 'nunique'])\n",
    "train_cat_agg.columns = ['_'.join(x) for x in train_cat_agg.columns]\n",
    "train_cat_agg.reset_index(inplace = True)"
   ]
  },
  {
   "cell_type": "code",
   "execution_count": 10,
   "id": "32b9aad9",
   "metadata": {
    "execution": {
     "iopub.execute_input": "2022-07-15T10:04:43.300012Z",
     "iopub.status.busy": "2022-07-15T10:04:43.299158Z",
     "iopub.status.idle": "2022-07-15T10:15:05.979487Z",
     "shell.execute_reply": "2022-07-15T10:15:05.978287Z"
    },
    "papermill": {
     "duration": 622.693349,
     "end_time": "2022-07-15T10:15:05.986591",
     "exception": false,
     "start_time": "2022-07-15T10:04:43.293242",
     "status": "completed"
    },
    "tags": []
   },
   "outputs": [
    {
     "name": "stdout",
     "output_type": "stream",
     "text": [
      "Train shape:  (458913, 1462)\n",
      "CPU times: user 7min 37s, sys: 2min 42s, total: 10min 19s\n",
      "Wall time: 10min 22s\n"
     ]
    },
    {
     "data": {
      "text/plain": [
       "0"
      ]
     },
     "execution_count": 10,
     "metadata": {},
     "output_type": "execute_result"
    }
   ],
   "source": [
    "%%time\n",
    "\n",
    "amex_train_labels = pd.read_csv('../input/amex-default-prediction/train_labels.csv')\n",
    "amex_train = amex_train_agg.merge(train_cat_agg, how = 'inner', on = 'customer_ID').merge(amex_train_labels, how = 'inner', on = 'customer_ID')\n",
    "print('Train shape: ', amex_train.shape)    \n",
    "del amex_train_agg, train_cat_agg        \n",
    "gc.collect()"
   ]
  },
  {
   "cell_type": "code",
   "execution_count": 11,
   "id": "ffe88575",
   "metadata": {
    "execution": {
     "iopub.execute_input": "2022-07-15T10:15:05.997616Z",
     "iopub.status.busy": "2022-07-15T10:15:05.997321Z",
     "iopub.status.idle": "2022-07-15T10:17:03.741189Z",
     "shell.execute_reply": "2022-07-15T10:17:03.736686Z"
    },
    "papermill": {
     "duration": 117.755985,
     "end_time": "2022-07-15T10:17:03.747495",
     "exception": false,
     "start_time": "2022-07-15T10:15:05.991510",
     "status": "completed"
    },
    "tags": []
   },
   "outputs": [
    {
     "name": "stdout",
     "output_type": "stream",
     "text": [
      "Memory usage after optimization is: 2009.85 MB\n",
      "Decreased by 0.0%\n",
      "Starting test feature extraction\n"
     ]
    }
   ],
   "source": [
    "amex_test = pd.read_feather(\"../input/amex-default-prediction-feather/train.feather\")\n",
    "amex_test = reduce_memory_usage(amex_test)\n",
    "print('Starting test feature extraction')\n",
    "test_num_agg = amex_test.groupby(\"customer_ID\")[num_features].agg(['first', 'mean', 'std', 'min', 'max', 'last'])\n",
    "test_num_agg.columns = ['_'.join(x) for x in test_num_agg.columns]\n",
    "test_num_agg.reset_index(inplace = True)"
   ]
  },
  {
   "cell_type": "code",
   "execution_count": 12,
   "id": "59c3b966",
   "metadata": {
    "execution": {
     "iopub.execute_input": "2022-07-15T10:17:03.760241Z",
     "iopub.status.busy": "2022-07-15T10:17:03.759951Z",
     "iopub.status.idle": "2022-07-15T10:17:06.321055Z",
     "shell.execute_reply": "2022-07-15T10:17:06.320104Z"
    },
    "papermill": {
     "duration": 2.570664,
     "end_time": "2022-07-15T10:17:06.323688",
     "exception": false,
     "start_time": "2022-07-15T10:17:03.753024",
     "status": "completed"
    },
    "tags": []
   },
   "outputs": [],
   "source": [
    "for col in test_num_agg:\n",
    "    if 'last' in col and col.replace('last', 'first') in test_num_agg:\n",
    "        test_num_agg[col + '_lag_sub'] = test_num_agg[col] - test_num_agg[col.replace('last', 'first')]\n",
    "        test_num_agg[col + '_lag_div'] = test_num_agg[col] / test_num_agg[col.replace('last', 'first')]"
   ]
  },
  {
   "cell_type": "code",
   "execution_count": 13,
   "id": "36d4e66a",
   "metadata": {
    "execution": {
     "iopub.execute_input": "2022-07-15T10:17:06.335361Z",
     "iopub.status.busy": "2022-07-15T10:17:06.335005Z",
     "iopub.status.idle": "2022-07-15T10:17:12.516740Z",
     "shell.execute_reply": "2022-07-15T10:17:12.515781Z"
    },
    "papermill": {
     "duration": 6.190553,
     "end_time": "2022-07-15T10:17:12.519525",
     "exception": false,
     "start_time": "2022-07-15T10:17:06.328972",
     "status": "completed"
    },
    "tags": []
   },
   "outputs": [],
   "source": [
    "test_cat_agg = amex_test.groupby(\"customer_ID\")[cat_features].agg(['count', 'first', 'last', 'nunique'])\n",
    "test_cat_agg.columns = ['_'.join(x) for x in test_cat_agg.columns]\n",
    "test_cat_agg.reset_index(inplace = True)"
   ]
  },
  {
   "cell_type": "code",
   "execution_count": 14,
   "id": "d8da80de",
   "metadata": {
    "execution": {
     "iopub.execute_input": "2022-07-15T10:17:12.531035Z",
     "iopub.status.busy": "2022-07-15T10:17:12.530714Z",
     "iopub.status.idle": "2022-07-15T10:26:53.362056Z",
     "shell.execute_reply": "2022-07-15T10:26:53.361118Z"
    },
    "papermill": {
     "duration": 580.845323,
     "end_time": "2022-07-15T10:26:53.370145",
     "exception": false,
     "start_time": "2022-07-15T10:17:12.524822",
     "status": "completed"
    },
    "tags": []
   },
   "outputs": [
    {
     "name": "stdout",
     "output_type": "stream",
     "text": [
      "Test shape:  (458913, 1461)\n",
      "CPU times: user 7min 32s, sys: 2min 5s, total: 9min 37s\n",
      "Wall time: 9min 40s\n"
     ]
    },
    {
     "data": {
      "text/plain": [
       "0"
      ]
     },
     "execution_count": 14,
     "metadata": {},
     "output_type": "execute_result"
    }
   ],
   "source": [
    "%%time\n",
    "\n",
    "amex_test = test_num_agg.merge(test_cat_agg, how = 'inner', on = 'customer_ID')\n",
    "print('Test shape: ', amex_test.shape)\n",
    "del test_num_agg, test_cat_agg\n",
    "gc.collect()"
   ]
  },
  {
   "cell_type": "code",
   "execution_count": 15,
   "id": "a84cea2c",
   "metadata": {
    "execution": {
     "iopub.execute_input": "2022-07-15T10:26:53.383614Z",
     "iopub.status.busy": "2022-07-15T10:26:53.382753Z",
     "iopub.status.idle": "2022-07-15T10:27:09.081594Z",
     "shell.execute_reply": "2022-07-15T10:27:09.080565Z"
    },
    "papermill": {
     "duration": 15.707574,
     "end_time": "2022-07-15T10:27:09.084154",
     "exception": false,
     "start_time": "2022-07-15T10:26:53.376580",
     "status": "completed"
    },
    "tags": []
   },
   "outputs": [],
   "source": [
    "amex_train.to_feather('amex_train_plus.feather')\n",
    "amex_test.to_feather('amex_test_plus.feather')"
   ]
  },
  {
   "cell_type": "code",
   "execution_count": 16,
   "id": "b085560d",
   "metadata": {
    "execution": {
     "iopub.execute_input": "2022-07-15T10:27:09.097613Z",
     "iopub.status.busy": "2022-07-15T10:27:09.096650Z",
     "iopub.status.idle": "2022-07-15T10:27:14.783664Z",
     "shell.execute_reply": "2022-07-15T10:27:14.782683Z"
    },
    "papermill": {
     "duration": 5.696545,
     "end_time": "2022-07-15T10:27:14.786211",
     "exception": false,
     "start_time": "2022-07-15T10:27:09.089666",
     "status": "completed"
    },
    "tags": []
   },
   "outputs": [
    {
     "data": {
      "text/html": [
       "<style type='text/css'>\n",
       ".datatable table.frame { margin-bottom: 0; }\n",
       ".datatable table.frame thead { border-bottom: none; }\n",
       ".datatable table.frame tr.coltypes td {  color: #FFFFFF;  line-height: 6px;  padding: 0 0.5em;}\n",
       ".datatable .bool    { background: #DDDD99; }\n",
       ".datatable .object  { background: #565656; }\n",
       ".datatable .int     { background: #5D9E5D; }\n",
       ".datatable .float   { background: #4040CC; }\n",
       ".datatable .str     { background: #CC4040; }\n",
       ".datatable .time    { background: #40CC40; }\n",
       ".datatable .row_index {  background: var(--jp-border-color3);  border-right: 1px solid var(--jp-border-color0);  color: var(--jp-ui-font-color3);  font-size: 9px;}\n",
       ".datatable .frame tbody td { text-align: left; }\n",
       ".datatable .frame tr.coltypes .row_index {  background: var(--jp-border-color0);}\n",
       ".datatable th:nth-child(2) { padding-left: 12px; }\n",
       ".datatable .hellipsis {  color: var(--jp-cell-editor-border-color);}\n",
       ".datatable .vellipsis {  background: var(--jp-layout-color0);  color: var(--jp-cell-editor-border-color);}\n",
       ".datatable .na {  color: var(--jp-cell-editor-border-color);  font-size: 80%;}\n",
       ".datatable .sp {  opacity: 0.25;}\n",
       ".datatable .footer { font-size: 9px; }\n",
       ".datatable .frame_dimensions {  background: var(--jp-border-color3);  border-top: 1px solid var(--jp-border-color0);  color: var(--jp-ui-font-color3);  display: inline-block;  opacity: 0.6;  padding: 1px 10px 1px 5px;}\n",
       "</style>\n"
      ],
      "text/plain": [
       "<IPython.core.display.HTML object>"
      ]
     },
     "metadata": {},
     "output_type": "display_data"
    }
   ],
   "source": [
    "import os\n",
    "import gc\n",
    "import joblib\n",
    "import random\n",
    "import warnings\n",
    "import itertools\n",
    "import scipy as sp\n",
    "import numpy as np\n",
    "import pandas as pd\n",
    "from tqdm import tqdm\n",
    "import xgboost as xgb\n",
    "import lightgbm as lgb\n",
    "warnings.filterwarnings('ignore')\n",
    "from itertools import combinations\n",
    "pd.set_option('display.width', 1000)\n",
    "pd.set_option('display.max_rows', 500)\n",
    "from catboost import CatBoostClassifier\n",
    "pd.set_option('display.max_columns', 500)\n",
    "from sklearn.preprocessing import LabelEncoder\n",
    "from sklearn.model_selection import StratifiedKFold, train_test_split"
   ]
  },
  {
   "cell_type": "code",
   "execution_count": null,
   "id": "768f8361",
   "metadata": {
    "papermill": {
     "duration": 0.005291,
     "end_time": "2022-07-15T10:27:14.798331",
     "exception": false,
     "start_time": "2022-07-15T10:27:14.793040",
     "status": "completed"
    },
    "tags": []
   },
   "outputs": [],
   "source": []
  }
 ],
 "metadata": {
  "kernelspec": {
   "display_name": "Python 3",
   "language": "python",
   "name": "python3"
  },
  "language_info": {
   "codemirror_mode": {
    "name": "ipython",
    "version": 3
   },
   "file_extension": ".py",
   "mimetype": "text/x-python",
   "name": "python",
   "nbconvert_exporter": "python",
   "pygments_lexer": "ipython3",
   "version": "3.7.12"
  },
  "papermill": {
   "default_parameters": {},
   "duration": 1511.219297,
   "end_time": "2022-07-15T10:27:17.224703",
   "environment_variables": {},
   "exception": null,
   "input_path": "__notebook__.ipynb",
   "output_path": "__notebook__.ipynb",
   "parameters": {},
   "start_time": "2022-07-15T10:02:06.005406",
   "version": "2.3.4"
  }
 },
 "nbformat": 4,
 "nbformat_minor": 5
}
