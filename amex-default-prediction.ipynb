{
 "cells": [
  {
   "cell_type": "code",
   "execution_count": 1,
   "id": "38d4c07f",
   "metadata": {
    "_cell_guid": "b1076dfc-b9ad-4769-8c92-a6c4dae69d19",
    "_uuid": "8f2839f25d086af736a60e9eeb907d3b93b6e0e5",
    "execution": {
     "iopub.execute_input": "2022-07-15T09:31:49.320066Z",
     "iopub.status.busy": "2022-07-15T09:31:49.319647Z",
     "iopub.status.idle": "2022-07-15T09:31:49.466991Z",
     "shell.execute_reply": "2022-07-15T09:31:49.465891Z"
    },
    "papermill": {
     "duration": 0.158103,
     "end_time": "2022-07-15T09:31:49.469813",
     "exception": false,
     "start_time": "2022-07-15T09:31:49.311710",
     "status": "completed"
    },
    "tags": []
   },
   "outputs": [
    {
     "name": "stdout",
     "output_type": "stream",
     "text": [
      "/kaggle/input/amex-default-prediction/sample_submission.csv\n",
      "/kaggle/input/amex-default-prediction/train_data.csv\n",
      "/kaggle/input/amex-default-prediction/test_data.csv\n",
      "/kaggle/input/amex-default-prediction/train_labels.csv\n",
      "/kaggle/input/amex-default-prediction-feather/00_slim_data.ipynb\n",
      "/kaggle/input/amex-default-prediction-feather/test.feather\n",
      "/kaggle/input/amex-default-prediction-feather/train.feather\n",
      "/kaggle/input/amex-data-integer-dtypes-parquet-format/train.parquet\n",
      "/kaggle/input/amex-data-integer-dtypes-parquet-format/test.parquet\n"
     ]
    }
   ],
   "source": [
    "# This Python 3 environment comes with many helpful analytics libraries installed\n",
    "# It is defined by the kaggle/python Docker image: https://github.com/kaggle/docker-python\n",
    "# For example, here's several helpful packages to load\n",
    "\n",
    "import gc\n",
    "import warnings\n",
    "warnings.filterwarnings('ignore')\n",
    "import scipy as sp\n",
    "import numpy as np\n",
    "import pandas as pd\n",
    "pd.set_option('display.max_rows', 500)\n",
    "pd.set_option('display.max_columns', 500)\n",
    "pd.set_option('display.width', 1000)\n",
    "from tqdm.auto import tqdm\n",
    "import itertools\n",
    "\n",
    "# Input data files are available in the read-only \"../input/\" directory\n",
    "# For example, running this (by clicking run or pressing Shift+Enter) will list all files under the input directory\n",
    "import os\n",
    "for dirname, _, filenames in os.walk('/kaggle/input'):\n",
    "    for filename in filenames:\n",
    "        print(os.path.join(dirname, filename))\n",
    "\n",
    "# You can write up to 20GB to the current directory (/kaggle/working/) that gets preserved as output when you create a version using \"Save & Run All\" \n",
    "# You can also write temporary files to /kaggle/temp/, but they won't be saved outside of the current session"
   ]
  },
  {
   "cell_type": "code",
   "execution_count": null,
   "id": "8fb7057d",
   "metadata": {
    "papermill": {
     "duration": 0.004667,
     "end_time": "2022-07-15T09:31:49.479484",
     "exception": false,
     "start_time": "2022-07-15T09:31:49.474817",
     "status": "completed"
    },
    "tags": []
   },
   "outputs": [],
   "source": []
  },
  {
   "cell_type": "code",
   "execution_count": 2,
   "id": "337e0fc5",
   "metadata": {
    "execution": {
     "iopub.execute_input": "2022-07-15T09:31:49.490123Z",
     "iopub.status.busy": "2022-07-15T09:31:49.489608Z",
     "iopub.status.idle": "2022-07-15T09:31:49.495104Z",
     "shell.execute_reply": "2022-07-15T09:31:49.494220Z"
    },
    "papermill": {
     "duration": 0.013059,
     "end_time": "2022-07-15T09:31:49.497207",
     "exception": false,
     "start_time": "2022-07-15T09:31:49.484148",
     "status": "completed"
    },
    "tags": []
   },
   "outputs": [],
   "source": [
    "# Reduce Memory Usage"
   ]
  },
  {
   "cell_type": "code",
   "execution_count": 3,
   "id": "8b19cf7a",
   "metadata": {
    "execution": {
     "iopub.execute_input": "2022-07-15T09:31:49.508053Z",
     "iopub.status.busy": "2022-07-15T09:31:49.507502Z",
     "iopub.status.idle": "2022-07-15T09:31:49.522155Z",
     "shell.execute_reply": "2022-07-15T09:31:49.521204Z"
    },
    "papermill": {
     "duration": 0.02247,
     "end_time": "2022-07-15T09:31:49.524351",
     "exception": false,
     "start_time": "2022-07-15T09:31:49.501881",
     "status": "completed"
    },
    "tags": []
   },
   "outputs": [],
   "source": [
    "def reduce_memory_usage(df,verbose = True):\n",
    "    numerics = ['int16','int32','int64','float16','float32','float64']\n",
    "    start_mem = df.memory_usage().sum()/1024**2\n",
    "    for col in df.columns:\n",
    "        col_type = df[col].dtypes\n",
    "        if col_type in numerics:\n",
    "            c_min = df[col].min()\n",
    "            c_max = df[col].max()\n",
    "            if str(col_type)[:3] == 'int':\n",
    "                if c_min > np.iinfo(np.int8).min and c_max < np.iinfo(np.int8).max:\n",
    "                    df[col] = df[col].astype(np.int8)\n",
    "                elif c_min > np.iinfo(np.int16).min and c_max < np.iinfo(np.int16).max:\n",
    "                    df[col] = df[col].astype(np.int16)\n",
    "                elif c_min > np.iinfo(np.int32).min and c_max < np.iinfo(np.int32).max:\n",
    "                    df[col] = df[col].astype(np.int32)\n",
    "                elif c_min > np.iinfo(np.int64).min and c_max < np.iinfo(np.int64).max:\n",
    "                    df[col] = df[col].astype(np.int64)\n",
    "            else:\n",
    "                if c_min > np.finfo(np.float16).min and c_max < np.finfo(np.float16).max:\n",
    "                    df[col] = df[col].astype(np.float16)\n",
    "                elif c_min > np.finfo(np.float32).min and c_max < np.finfo(np.float32).max:\n",
    "                    df[col] = df[col].astype(np.float32)\n",
    "                else:\n",
    "                    df[col] = df[col].astype(np.float64)\n",
    "    end_mem = df.memory_usage().sum() / 1024**2\n",
    "    print('Memory usage after optimization is: {:.2f} MB'.format(end_mem))\n",
    "    print('Decreased by {:.1f}%'.format(100 * (start_mem - end_mem) / start_mem))\n",
    "    return df"
   ]
  },
  {
   "cell_type": "code",
   "execution_count": 4,
   "id": "4cbe02ed",
   "metadata": {
    "execution": {
     "iopub.execute_input": "2022-07-15T09:31:49.534811Z",
     "iopub.status.busy": "2022-07-15T09:31:49.534539Z",
     "iopub.status.idle": "2022-07-15T09:31:49.538647Z",
     "shell.execute_reply": "2022-07-15T09:31:49.537595Z"
    },
    "papermill": {
     "duration": 0.011932,
     "end_time": "2022-07-15T09:31:49.540937",
     "exception": false,
     "start_time": "2022-07-15T09:31:49.529005",
     "status": "completed"
    },
    "tags": []
   },
   "outputs": [],
   "source": [
    "# Reading Preprocessed Data"
   ]
  },
  {
   "cell_type": "code",
   "execution_count": 5,
   "id": "364d546a",
   "metadata": {
    "execution": {
     "iopub.execute_input": "2022-07-15T09:31:49.551396Z",
     "iopub.status.busy": "2022-07-15T09:31:49.551127Z",
     "iopub.status.idle": "2022-07-15T09:32:08.675059Z",
     "shell.execute_reply": "2022-07-15T09:32:08.674110Z"
    },
    "papermill": {
     "duration": 19.132537,
     "end_time": "2022-07-15T09:32:08.678008",
     "exception": false,
     "start_time": "2022-07-15T09:31:49.545471",
     "status": "completed"
    },
    "tags": []
   },
   "outputs": [
    {
     "name": "stdout",
     "output_type": "stream",
     "text": [
      "Train size: (5531451, 190)\n",
      "CPU times: user 10.9 s, sys: 3.31 s, total: 14.3 s\n",
      "Wall time: 19.1 s\n"
     ]
    }
   ],
   "source": [
    "%%time\n",
    "\n",
    "amex_train = pd.read_feather(\"../input/amex-default-prediction-feather/train.feather\")\n",
    "\n",
    "print(\"Train size:\", amex_train.shape)"
   ]
  },
  {
   "cell_type": "code",
   "execution_count": 6,
   "id": "fd149aee",
   "metadata": {
    "execution": {
     "iopub.execute_input": "2022-07-15T09:32:08.694448Z",
     "iopub.status.busy": "2022-07-15T09:32:08.693969Z",
     "iopub.status.idle": "2022-07-15T09:32:44.734282Z",
     "shell.execute_reply": "2022-07-15T09:32:44.733287Z"
    },
    "papermill": {
     "duration": 36.050818,
     "end_time": "2022-07-15T09:32:44.736561",
     "exception": false,
     "start_time": "2022-07-15T09:32:08.685743",
     "status": "completed"
    },
    "tags": []
   },
   "outputs": [
    {
     "name": "stdout",
     "output_type": "stream",
     "text": [
      "Memory usage after optimization is: 2009.85 MB\n",
      "Decreased by 0.0%\n"
     ]
    }
   ],
   "source": [
    "amex_train = reduce_memory_usage(amex_train)\n",
    "amex_features = amex_train.drop(['customer_ID', 'S_2'], axis = 1).columns.to_list()\n",
    "cat_features = [\n",
    "        \"B_30\",\n",
    "        \"B_38\",\n",
    "        \"D_114\",\n",
    "        \"D_116\",\n",
    "        \"D_117\",\n",
    "        \"D_120\",\n",
    "        \"D_126\",\n",
    "        \"D_63\",\n",
    "        \"D_64\",\n",
    "        \"D_66\",\n",
    "        \"D_68\",\n",
    "    ]\n",
    "num_features = [col for col in amex_features if col not in cat_features]"
   ]
  },
  {
   "cell_type": "code",
   "execution_count": 7,
   "id": "fb72b52e",
   "metadata": {
    "execution": {
     "iopub.execute_input": "2022-07-15T09:32:44.746983Z",
     "iopub.status.busy": "2022-07-15T09:32:44.746703Z",
     "iopub.status.idle": "2022-07-15T09:34:05.317285Z",
     "shell.execute_reply": "2022-07-15T09:34:05.316304Z"
    },
    "papermill": {
     "duration": 80.578462,
     "end_time": "2022-07-15T09:34:05.319723",
     "exception": false,
     "start_time": "2022-07-15T09:32:44.741261",
     "status": "completed"
    },
    "tags": []
   },
   "outputs": [
    {
     "name": "stdout",
     "output_type": "stream",
     "text": [
      "Starting train feature extraction\n"
     ]
    }
   ],
   "source": [
    "print('Starting train feature extraction')\n",
    "amex_train_agg = amex_train.groupby(\"customer_ID\")[num_features].agg(['first', 'mean', 'std', 'min', 'max', 'last'])\n",
    "amex_train_agg.columns = ['_'.join(x) for x in amex_train_agg.columns]\n",
    "amex_train_agg.reset_index(inplace = True)"
   ]
  },
  {
   "cell_type": "code",
   "execution_count": 8,
   "id": "8ba74a56",
   "metadata": {
    "execution": {
     "iopub.execute_input": "2022-07-15T09:34:05.330866Z",
     "iopub.status.busy": "2022-07-15T09:34:05.330584Z",
     "iopub.status.idle": "2022-07-15T09:34:07.938763Z",
     "shell.execute_reply": "2022-07-15T09:34:07.937478Z"
    },
    "papermill": {
     "duration": 2.615999,
     "end_time": "2022-07-15T09:34:07.941077",
     "exception": false,
     "start_time": "2022-07-15T09:34:05.325078",
     "status": "completed"
    },
    "tags": []
   },
   "outputs": [],
   "source": [
    "for col in amex_train_agg:\n",
    "    if 'last' in col and col.replace('last', 'first') in amex_train_agg:\n",
    "        amex_train_agg[col + '_lag_sub'] = amex_train_agg[col] - amex_train_agg[col.replace('last', 'first')]\n",
    "        amex_train_agg[col + '_lag_div'] = amex_train_agg[col] / amex_train_agg[col.replace('last', 'first')]"
   ]
  },
  {
   "cell_type": "code",
   "execution_count": 9,
   "id": "dbc20f35",
   "metadata": {
    "execution": {
     "iopub.execute_input": "2022-07-15T09:34:07.951487Z",
     "iopub.status.busy": "2022-07-15T09:34:07.951195Z",
     "iopub.status.idle": "2022-07-15T09:34:14.930193Z",
     "shell.execute_reply": "2022-07-15T09:34:14.929214Z"
    },
    "papermill": {
     "duration": 6.986871,
     "end_time": "2022-07-15T09:34:14.932616",
     "exception": false,
     "start_time": "2022-07-15T09:34:07.945745",
     "status": "completed"
    },
    "tags": []
   },
   "outputs": [],
   "source": [
    "train_cat_agg = amex_train.groupby(\"customer_ID\")[cat_features].agg(['count', 'first', 'last', 'nunique'])\n",
    "train_cat_agg.columns = ['_'.join(x) for x in train_cat_agg.columns]\n",
    "train_cat_agg.reset_index(inplace = True)"
   ]
  },
  {
   "cell_type": "code",
   "execution_count": 10,
   "id": "5a1f201f",
   "metadata": {
    "execution": {
     "iopub.execute_input": "2022-07-15T09:34:14.943835Z",
     "iopub.status.busy": "2022-07-15T09:34:14.943551Z",
     "iopub.status.idle": "2022-07-15T09:44:30.829073Z",
     "shell.execute_reply": "2022-07-15T09:44:30.828219Z"
    },
    "papermill": {
     "duration": 615.898526,
     "end_time": "2022-07-15T09:44:30.835954",
     "exception": false,
     "start_time": "2022-07-15T09:34:14.937428",
     "status": "completed"
    },
    "tags": []
   },
   "outputs": [
    {
     "name": "stdout",
     "output_type": "stream",
     "text": [
      "Train shape:  (458913, 1462)\n",
      "CPU times: user 7min 31s, sys: 2min 42s, total: 10min 14s\n",
      "Wall time: 10min 15s\n"
     ]
    },
    {
     "data": {
      "text/plain": [
       "0"
      ]
     },
     "execution_count": 10,
     "metadata": {},
     "output_type": "execute_result"
    }
   ],
   "source": [
    "%%time\n",
    "\n",
    "amex_train_labels = pd.read_csv('../input/amex-default-prediction/train_labels.csv')\n",
    "amex_train = amex_train_agg.merge(train_cat_agg, how = 'inner', on = 'customer_ID').merge(amex_train_labels, how = 'inner', on = 'customer_ID')\n",
    "print('Train shape: ', amex_train.shape)    \n",
    "del amex_train_agg, train_cat_agg        \n",
    "gc.collect()"
   ]
  },
  {
   "cell_type": "code",
   "execution_count": 11,
   "id": "f19393d6",
   "metadata": {
    "execution": {
     "iopub.execute_input": "2022-07-15T09:44:30.850117Z",
     "iopub.status.busy": "2022-07-15T09:44:30.849837Z",
     "iopub.status.idle": "2022-07-15T09:46:26.235716Z",
     "shell.execute_reply": "2022-07-15T09:46:26.230508Z"
    },
    "papermill": {
     "duration": 115.398392,
     "end_time": "2022-07-15T09:46:26.241479",
     "exception": false,
     "start_time": "2022-07-15T09:44:30.843087",
     "status": "completed"
    },
    "tags": []
   },
   "outputs": [
    {
     "name": "stdout",
     "output_type": "stream",
     "text": [
      "Memory usage after optimization is: 2009.85 MB\n",
      "Decreased by 0.0%\n",
      "Starting test feature extraction\n"
     ]
    }
   ],
   "source": [
    "amex_test = pd.read_feather(\"../input/amex-default-prediction-feather/train.feather\")\n",
    "amex_test = reduce_memory_usage(amex_test)\n",
    "print('Starting test feature extraction')\n",
    "test_num_agg = amex_test.groupby(\"customer_ID\")[num_features].agg(['first', 'mean', 'std', 'min', 'max', 'last'])\n",
    "test_num_agg.columns = ['_'.join(x) for x in test_num_agg.columns]\n",
    "test_num_agg.reset_index(inplace = True)"
   ]
  },
  {
   "cell_type": "code",
   "execution_count": 12,
   "id": "b125a760",
   "metadata": {
    "execution": {
     "iopub.execute_input": "2022-07-15T09:46:26.254997Z",
     "iopub.status.busy": "2022-07-15T09:46:26.254433Z",
     "iopub.status.idle": "2022-07-15T09:46:28.749550Z",
     "shell.execute_reply": "2022-07-15T09:46:28.748598Z"
    },
    "papermill": {
     "duration": 2.504983,
     "end_time": "2022-07-15T09:46:28.751863",
     "exception": false,
     "start_time": "2022-07-15T09:46:26.246880",
     "status": "completed"
    },
    "tags": []
   },
   "outputs": [],
   "source": [
    "for col in test_num_agg:\n",
    "    if 'last' in col and col.replace('last', 'first') in test_num_agg:\n",
    "        test_num_agg[col + '_lag_sub'] = test_num_agg[col] - test_num_agg[col.replace('last', 'first')]\n",
    "        test_num_agg[col + '_lag_div'] = test_num_agg[col] / test_num_agg[col.replace('last', 'first')]"
   ]
  },
  {
   "cell_type": "code",
   "execution_count": 13,
   "id": "ff984f7d",
   "metadata": {
    "execution": {
     "iopub.execute_input": "2022-07-15T09:46:28.766238Z",
     "iopub.status.busy": "2022-07-15T09:46:28.764581Z",
     "iopub.status.idle": "2022-07-15T09:46:35.440271Z",
     "shell.execute_reply": "2022-07-15T09:46:35.439289Z"
    },
    "papermill": {
     "duration": 6.684337,
     "end_time": "2022-07-15T09:46:35.442645",
     "exception": false,
     "start_time": "2022-07-15T09:46:28.758308",
     "status": "completed"
    },
    "tags": []
   },
   "outputs": [],
   "source": [
    "test_cat_agg = amex_test.groupby(\"customer_ID\")[cat_features].agg(['count', 'first', 'last', 'nunique'])\n",
    "test_cat_agg.columns = ['_'.join(x) for x in test_cat_agg.columns]\n",
    "test_cat_agg.reset_index(inplace = True)"
   ]
  },
  {
   "cell_type": "code",
   "execution_count": 14,
   "id": "c8134258",
   "metadata": {
    "execution": {
     "iopub.execute_input": "2022-07-15T09:46:35.453879Z",
     "iopub.status.busy": "2022-07-15T09:46:35.453594Z",
     "iopub.status.idle": "2022-07-15T09:56:07.141961Z",
     "shell.execute_reply": "2022-07-15T09:56:07.140616Z"
    },
    "papermill": {
     "duration": 571.700877,
     "end_time": "2022-07-15T09:56:07.148576",
     "exception": false,
     "start_time": "2022-07-15T09:46:35.447699",
     "status": "completed"
    },
    "tags": []
   },
   "outputs": [
    {
     "name": "stdout",
     "output_type": "stream",
     "text": [
      "Test shape:  (458913, 1461)\n",
      "CPU times: user 7min 24s, sys: 2min 5s, total: 9min 30s\n",
      "Wall time: 9min 31s\n"
     ]
    },
    {
     "data": {
      "text/plain": [
       "0"
      ]
     },
     "execution_count": 14,
     "metadata": {},
     "output_type": "execute_result"
    }
   ],
   "source": [
    "%%time\n",
    "\n",
    "amex_test = test_num_agg.merge(test_cat_agg, how = 'inner', on = 'customer_ID')\n",
    "print('Test shape: ', amex_test.shape)\n",
    "del test_num_agg, test_cat_agg\n",
    "gc.collect()"
   ]
  },
  {
   "cell_type": "code",
   "execution_count": null,
   "id": "edc5ca7a",
   "metadata": {
    "execution": {
     "iopub.execute_input": "2022-07-15T09:30:17.530336Z",
     "iopub.status.busy": "2022-07-15T09:30:17.529693Z",
     "iopub.status.idle": "2022-07-15T09:30:20.506980Z",
     "shell.execute_reply": "2022-07-15T09:30:20.504727Z",
     "shell.execute_reply.started": "2022-07-15T09:30:17.530295Z"
    },
    "papermill": {
     "duration": 0.007321,
     "end_time": "2022-07-15T09:56:07.163369",
     "exception": false,
     "start_time": "2022-07-15T09:56:07.156048",
     "status": "completed"
    },
    "tags": []
   },
   "outputs": [],
   "source": []
  },
  {
   "cell_type": "code",
   "execution_count": null,
   "id": "2b5a9806",
   "metadata": {
    "papermill": {
     "duration": 0.007107,
     "end_time": "2022-07-15T09:56:07.181649",
     "exception": false,
     "start_time": "2022-07-15T09:56:07.174542",
     "status": "completed"
    },
    "tags": []
   },
   "outputs": [],
   "source": []
  }
 ],
 "metadata": {
  "kernelspec": {
   "display_name": "Python 3",
   "language": "python",
   "name": "python3"
  },
  "language_info": {
   "codemirror_mode": {
    "name": "ipython",
    "version": 3
   },
   "file_extension": ".py",
   "mimetype": "text/x-python",
   "name": "python",
   "nbconvert_exporter": "python",
   "pygments_lexer": "ipython3",
   "version": "3.7.12"
  },
  "papermill": {
   "default_parameters": {},
   "duration": 1467.419343,
   "end_time": "2022-07-15T09:56:08.233186",
   "environment_variables": {},
   "exception": null,
   "input_path": "__notebook__.ipynb",
   "output_path": "__notebook__.ipynb",
   "parameters": {},
   "start_time": "2022-07-15T09:31:40.813843",
   "version": "2.3.4"
  }
 },
 "nbformat": 4,
 "nbformat_minor": 5
}
