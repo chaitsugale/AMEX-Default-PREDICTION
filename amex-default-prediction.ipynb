{
 "cells": [
  {
   "cell_type": "code",
   "execution_count": 1,
   "id": "2cc9f143",
   "metadata": {
    "_cell_guid": "b1076dfc-b9ad-4769-8c92-a6c4dae69d19",
    "_uuid": "8f2839f25d086af736a60e9eeb907d3b93b6e0e5",
    "execution": {
     "iopub.execute_input": "2022-07-15T08:28:15.740263Z",
     "iopub.status.busy": "2022-07-15T08:28:15.739069Z",
     "iopub.status.idle": "2022-07-15T08:28:15.983327Z",
     "shell.execute_reply": "2022-07-15T08:28:15.982079Z"
    },
    "papermill": {
     "duration": 0.256119,
     "end_time": "2022-07-15T08:28:15.986696",
     "exception": false,
     "start_time": "2022-07-15T08:28:15.730577",
     "status": "completed"
    },
    "tags": []
   },
   "outputs": [
    {
     "name": "stdout",
     "output_type": "stream",
     "text": [
      "/kaggle/input/amex-data-integer-dtypes-parquet-format/train.parquet\n",
      "/kaggle/input/amex-data-integer-dtypes-parquet-format/test.parquet\n",
      "/kaggle/input/amex-default-prediction-feather/00_slim_data.ipynb\n",
      "/kaggle/input/amex-default-prediction-feather/test.feather\n",
      "/kaggle/input/amex-default-prediction-feather/train.feather\n",
      "/kaggle/input/amex-default-prediction/sample_submission.csv\n",
      "/kaggle/input/amex-default-prediction/train_data.csv\n",
      "/kaggle/input/amex-default-prediction/test_data.csv\n",
      "/kaggle/input/amex-default-prediction/train_labels.csv\n"
     ]
    }
   ],
   "source": [
    "# This Python 3 environment comes with many helpful analytics libraries installed\n",
    "# It is defined by the kaggle/python Docker image: https://github.com/kaggle/docker-python\n",
    "# For example, here's several helpful packages to load\n",
    "\n",
    "import gc\n",
    "import warnings\n",
    "warnings.filterwarnings('ignore')\n",
    "import scipy as sp\n",
    "import numpy as np\n",
    "import pandas as pd\n",
    "pd.set_option('display.max_rows', 500)\n",
    "pd.set_option('display.max_columns', 500)\n",
    "pd.set_option('display.width', 1000)\n",
    "from tqdm.auto import tqdm\n",
    "import itertools\n",
    "\n",
    "# Input data files are available in the read-only \"../input/\" directory\n",
    "# For example, running this (by clicking run or pressing Shift+Enter) will list all files under the input directory\n",
    "import os\n",
    "for dirname, _, filenames in os.walk('/kaggle/input'):\n",
    "    for filename in filenames:\n",
    "        print(os.path.join(dirname, filename))\n",
    "\n",
    "# You can write up to 20GB to the current directory (/kaggle/working/) that gets preserved as output when you create a version using \"Save & Run All\" \n",
    "# You can also write temporary files to /kaggle/temp/, but they won't be saved outside of the current session"
   ]
  },
  {
   "cell_type": "code",
   "execution_count": null,
   "id": "a6a58f58",
   "metadata": {
    "papermill": {
     "duration": 0.005026,
     "end_time": "2022-07-15T08:28:15.997878",
     "exception": false,
     "start_time": "2022-07-15T08:28:15.992852",
     "status": "completed"
    },
    "tags": []
   },
   "outputs": [],
   "source": []
  },
  {
   "cell_type": "code",
   "execution_count": 2,
   "id": "ed611e4f",
   "metadata": {
    "execution": {
     "iopub.execute_input": "2022-07-15T08:28:16.012297Z",
     "iopub.status.busy": "2022-07-15T08:28:16.011783Z",
     "iopub.status.idle": "2022-07-15T08:28:16.019187Z",
     "shell.execute_reply": "2022-07-15T08:28:16.018481Z"
    },
    "papermill": {
     "duration": 0.017522,
     "end_time": "2022-07-15T08:28:16.021980",
     "exception": false,
     "start_time": "2022-07-15T08:28:16.004458",
     "status": "completed"
    },
    "tags": []
   },
   "outputs": [],
   "source": [
    "# Reduce Memory Usage"
   ]
  },
  {
   "cell_type": "code",
   "execution_count": 3,
   "id": "eed81e4b",
   "metadata": {
    "execution": {
     "iopub.execute_input": "2022-07-15T08:28:16.034587Z",
     "iopub.status.busy": "2022-07-15T08:28:16.033983Z",
     "iopub.status.idle": "2022-07-15T08:28:16.054334Z",
     "shell.execute_reply": "2022-07-15T08:28:16.053362Z"
    },
    "papermill": {
     "duration": 0.029551,
     "end_time": "2022-07-15T08:28:16.056972",
     "exception": false,
     "start_time": "2022-07-15T08:28:16.027421",
     "status": "completed"
    },
    "tags": []
   },
   "outputs": [],
   "source": [
    "def reduce_memory_usage(df,verbose = True):\n",
    "    numerics = ['int16','int32','int64','float16','float32','float64']\n",
    "    start_mem = df.memory_usage().sum()/1024**2\n",
    "    for col in df.columns:\n",
    "        col_type = df[col].dtypes\n",
    "        if col_type in numerics:\n",
    "            c_min = df[col].min()\n",
    "            c_max = df[col].max()\n",
    "            if str(col_type)[:3] == 'int':\n",
    "                if c_min > np.iinfo(np.int8).min and c_max < np.iinfo(np.int8).max:\n",
    "                    df[col] = df[col].astype(np.int8)\n",
    "                elif c_min > np.iinfo(np.int16).min and c_max < np.iinfo(np.int16).max:\n",
    "                    df[col] = df[col].astype(np.int16)\n",
    "                elif c_min > np.iinfo(np.int32).min and c_max < np.iinfo(np.int32).max:\n",
    "                    df[col] = df[col].astype(np.int32)\n",
    "                elif c_min > np.iinfo(np.int64).min and c_max < np.iinfo(np.int64).max:\n",
    "                    df[col] = df[col].astype(np.int64)\n",
    "            else:\n",
    "                if c_min > np.finfo(np.float16).min and c_max < np.finfo(np.float16).max:\n",
    "                    df[col] = df[col].astype(np.float16)\n",
    "                elif c_min > np.finfo(np.float32).min and c_max < np.finfo(np.float32).max:\n",
    "                    df[col] = df[col].astype(np.float32)\n",
    "                else:\n",
    "                    df[col] = df[col].astype(np.float64)\n",
    "    end_mem = df.memory_usage().sum() / 1024**2\n",
    "    print('Memory usage after optimization is: {:.2f} MB'.format(end_mem))\n",
    "    print('Decreased by {:.1f}%'.format(100 * (start_mem - end_mem) / start_mem))\n",
    "    return df"
   ]
  },
  {
   "cell_type": "code",
   "execution_count": 4,
   "id": "60ce0eda",
   "metadata": {
    "execution": {
     "iopub.execute_input": "2022-07-15T08:28:16.068446Z",
     "iopub.status.busy": "2022-07-15T08:28:16.068123Z",
     "iopub.status.idle": "2022-07-15T08:28:16.072201Z",
     "shell.execute_reply": "2022-07-15T08:28:16.071323Z"
    },
    "papermill": {
     "duration": 0.014137,
     "end_time": "2022-07-15T08:28:16.076217",
     "exception": false,
     "start_time": "2022-07-15T08:28:16.062080",
     "status": "completed"
    },
    "tags": []
   },
   "outputs": [],
   "source": [
    "# Reading Preprocessed Data"
   ]
  },
  {
   "cell_type": "code",
   "execution_count": 5,
   "id": "ec07cf0b",
   "metadata": {
    "execution": {
     "iopub.execute_input": "2022-07-15T08:28:16.087654Z",
     "iopub.status.busy": "2022-07-15T08:28:16.087336Z",
     "iopub.status.idle": "2022-07-15T08:28:34.239968Z",
     "shell.execute_reply": "2022-07-15T08:28:34.237912Z"
    },
    "papermill": {
     "duration": 18.16074,
     "end_time": "2022-07-15T08:28:34.242066",
     "exception": false,
     "start_time": "2022-07-15T08:28:16.081326",
     "status": "completed"
    },
    "tags": []
   },
   "outputs": [
    {
     "name": "stdout",
     "output_type": "stream",
     "text": [
      "Train size: (5531451, 190)\n",
      "CPU times: user 11 s, sys: 3.35 s, total: 14.4 s\n",
      "Wall time: 18.1 s\n"
     ]
    }
   ],
   "source": [
    "%%time\n",
    "\n",
    "amex_train = pd.read_feather(\"../input/amex-default-prediction-feather/train.feather\")\n",
    "\n",
    "print(\"Train size:\", amex_train.shape)"
   ]
  },
  {
   "cell_type": "code",
   "execution_count": 6,
   "id": "1dc272b4",
   "metadata": {
    "execution": {
     "iopub.execute_input": "2022-07-15T08:28:34.251687Z",
     "iopub.status.busy": "2022-07-15T08:28:34.250081Z",
     "iopub.status.idle": "2022-07-15T08:29:10.294347Z",
     "shell.execute_reply": "2022-07-15T08:29:10.293291Z"
    },
    "papermill": {
     "duration": 36.051132,
     "end_time": "2022-07-15T08:29:10.296706",
     "exception": false,
     "start_time": "2022-07-15T08:28:34.245574",
     "status": "completed"
    },
    "tags": []
   },
   "outputs": [
    {
     "name": "stdout",
     "output_type": "stream",
     "text": [
      "Memory usage after optimization is: 2009.85 MB\n",
      "Decreased by 0.0%\n"
     ]
    }
   ],
   "source": [
    "amex_train = reduce_memory_usage(amex_train)\n",
    "amex_features = amex_train.drop(['customer_ID', 'S_2'], axis = 1).columns.to_list()\n",
    "cat_features = [\n",
    "        \"B_30\",\n",
    "        \"B_38\",\n",
    "        \"D_114\",\n",
    "        \"D_116\",\n",
    "        \"D_117\",\n",
    "        \"D_120\",\n",
    "        \"D_126\",\n",
    "        \"D_63\",\n",
    "        \"D_64\",\n",
    "        \"D_66\",\n",
    "        \"D_68\",\n",
    "    ]\n",
    "num_features = [col for col in amex_features if col not in cat_features]"
   ]
  },
  {
   "cell_type": "code",
   "execution_count": 7,
   "id": "01069aa2",
   "metadata": {
    "execution": {
     "iopub.execute_input": "2022-07-15T08:29:10.305771Z",
     "iopub.status.busy": "2022-07-15T08:29:10.304989Z",
     "iopub.status.idle": "2022-07-15T08:30:31.200210Z",
     "shell.execute_reply": "2022-07-15T08:30:31.199219Z"
    },
    "papermill": {
     "duration": 80.902461,
     "end_time": "2022-07-15T08:30:31.202919",
     "exception": false,
     "start_time": "2022-07-15T08:29:10.300458",
     "status": "completed"
    },
    "tags": []
   },
   "outputs": [
    {
     "name": "stdout",
     "output_type": "stream",
     "text": [
      "Starting train feature extraction\n"
     ]
    }
   ],
   "source": [
    "print('Starting train feature extraction')\n",
    "amex_train_agg = amex_train.groupby(\"customer_ID\")[num_features].agg(['first', 'mean', 'std', 'min', 'max', 'last'])\n",
    "amex_train_agg.columns = ['_'.join(x) for x in amex_train_agg.columns]\n",
    "amex_train_agg.reset_index(inplace = True)"
   ]
  },
  {
   "cell_type": "code",
   "execution_count": 8,
   "id": "212c7333",
   "metadata": {
    "execution": {
     "iopub.execute_input": "2022-07-15T08:30:31.211748Z",
     "iopub.status.busy": "2022-07-15T08:30:31.211433Z",
     "iopub.status.idle": "2022-07-15T08:30:33.811621Z",
     "shell.execute_reply": "2022-07-15T08:30:33.810693Z"
    },
    "papermill": {
     "duration": 2.607069,
     "end_time": "2022-07-15T08:30:33.814032",
     "exception": false,
     "start_time": "2022-07-15T08:30:31.206963",
     "status": "completed"
    },
    "tags": []
   },
   "outputs": [],
   "source": [
    "for col in amex_train_agg:\n",
    "    if 'last' in col and col.replace('last', 'first') in amex_train_agg:\n",
    "        amex_train_agg[col + '_lag_sub'] = amex_train_agg[col] - amex_train_agg[col.replace('last', 'first')]\n",
    "        amex_train_agg[col + '_lag_div'] = amex_train_agg[col] / amex_train_agg[col.replace('last', 'first')]"
   ]
  },
  {
   "cell_type": "code",
   "execution_count": 9,
   "id": "16056083",
   "metadata": {
    "execution": {
     "iopub.execute_input": "2022-07-15T08:30:33.823723Z",
     "iopub.status.busy": "2022-07-15T08:30:33.822227Z",
     "iopub.status.idle": "2022-07-15T08:30:41.245677Z",
     "shell.execute_reply": "2022-07-15T08:30:41.244705Z"
    },
    "papermill": {
     "duration": 7.430946,
     "end_time": "2022-07-15T08:30:41.248680",
     "exception": false,
     "start_time": "2022-07-15T08:30:33.817734",
     "status": "completed"
    },
    "tags": []
   },
   "outputs": [],
   "source": [
    "train_cat_agg = amex_train.groupby(\"customer_ID\")[cat_features].agg(['count', 'first', 'last', 'nunique'])\n",
    "train_cat_agg.columns = ['_'.join(x) for x in train_cat_agg.columns]\n",
    "train_cat_agg.reset_index(inplace = True)"
   ]
  },
  {
   "cell_type": "code",
   "execution_count": 10,
   "id": "c7451225",
   "metadata": {
    "execution": {
     "iopub.execute_input": "2022-07-15T08:30:41.261861Z",
     "iopub.status.busy": "2022-07-15T08:30:41.261511Z",
     "iopub.status.idle": "2022-07-15T08:40:54.107495Z",
     "shell.execute_reply": "2022-07-15T08:40:54.106037Z"
    },
    "papermill": {
     "duration": 612.856536,
     "end_time": "2022-07-15T08:40:54.111597",
     "exception": false,
     "start_time": "2022-07-15T08:30:41.255061",
     "status": "completed"
    },
    "tags": []
   },
   "outputs": [
    {
     "name": "stdout",
     "output_type": "stream",
     "text": [
      "Train shape:  (458913, 1462)\n",
      "CPU times: user 7min 29s, sys: 2min 41s, total: 10min 10s\n",
      "Wall time: 10min 12s\n"
     ]
    },
    {
     "data": {
      "text/plain": [
       "0"
      ]
     },
     "execution_count": 10,
     "metadata": {},
     "output_type": "execute_result"
    }
   ],
   "source": [
    "%%time\n",
    "\n",
    "amex_train_labels = pd.read_csv('../input/amex-default-prediction/train_labels.csv')\n",
    "amex_train = amex_train_agg.merge(train_cat_agg, how = 'inner', on = 'customer_ID').merge(amex_train_labels, how = 'inner', on = 'customer_ID')\n",
    "print('Train shape: ', amex_train.shape)    \n",
    "del amex_train_agg, train_cat_agg        \n",
    "gc.collect()"
   ]
  },
  {
   "cell_type": "code",
   "execution_count": null,
   "id": "2059acad",
   "metadata": {
    "papermill": {
     "duration": 0.005107,
     "end_time": "2022-07-15T08:40:54.122115",
     "exception": false,
     "start_time": "2022-07-15T08:40:54.117008",
     "status": "completed"
    },
    "tags": []
   },
   "outputs": [],
   "source": []
  }
 ],
 "metadata": {
  "kernelspec": {
   "display_name": "Python 3",
   "language": "python",
   "name": "python3"
  },
  "language_info": {
   "codemirror_mode": {
    "name": "ipython",
    "version": 3
   },
   "file_extension": ".py",
   "mimetype": "text/x-python",
   "name": "python",
   "nbconvert_exporter": "python",
   "pygments_lexer": "ipython3",
   "version": "3.7.12"
  },
  "papermill": {
   "default_parameters": {},
   "duration": 767.675659,
   "end_time": "2022-07-15T08:40:54.848019",
   "environment_variables": {},
   "exception": null,
   "input_path": "__notebook__.ipynb",
   "output_path": "__notebook__.ipynb",
   "parameters": {},
   "start_time": "2022-07-15T08:28:07.172360",
   "version": "2.3.4"
  }
 },
 "nbformat": 4,
 "nbformat_minor": 5
}
